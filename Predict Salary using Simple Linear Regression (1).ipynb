{
 "cells": [
  {
   "cell_type": "markdown",
   "id": "6ff17856",
   "metadata": {},
   "source": [
    "In this notebook, I will make simple linear regression to predict the salary. The dataset includes two columns  “Years of Experience” and “Salary” for 30 employees, therefore, I will build the model to find the relationship between the independent variable \"Years of Experience\" and dependent variable \"Salary\". "
   ]
  },
  {
   "cell_type": "code",
   "execution_count": 1,
   "id": "f2ac15c8",
   "metadata": {},
   "outputs": [],
   "source": [
    "# Import the libraries\n",
    "import pandas as pd\n",
    "import numpy as np\n",
    "import matplotlib.pyplot as plt\n",
    "%matplotlib inline\n",
    "from sklearn.model_selection import train_test_split\n",
    "from sklearn.linear_model import LinearRegression\n",
    "from sklearn.metrics import mean_squared_error, r2_score"
   ]
  },
  {
   "cell_type": "markdown",
   "id": "79c88e73",
   "metadata": {},
   "source": [
    "**Step 1: Load the dataset**"
   ]
  },
  {
   "cell_type": "code",
   "execution_count": 2,
   "id": "985cbab1",
   "metadata": {},
   "outputs": [
    {
     "data": {
      "text/html": [
       "<div>\n",
       "<style scoped>\n",
       "    .dataframe tbody tr th:only-of-type {\n",
       "        vertical-align: middle;\n",
       "    }\n",
       "\n",
       "    .dataframe tbody tr th {\n",
       "        vertical-align: top;\n",
       "    }\n",
       "\n",
       "    .dataframe thead th {\n",
       "        text-align: right;\n",
       "    }\n",
       "</style>\n",
       "<table border=\"1\" class=\"dataframe\">\n",
       "  <thead>\n",
       "    <tr style=\"text-align: right;\">\n",
       "      <th></th>\n",
       "      <th>YearsExperience</th>\n",
       "      <th>Salary</th>\n",
       "    </tr>\n",
       "  </thead>\n",
       "  <tbody>\n",
       "    <tr>\n",
       "      <th>0</th>\n",
       "      <td>1.1</td>\n",
       "      <td>39343.0</td>\n",
       "    </tr>\n",
       "    <tr>\n",
       "      <th>1</th>\n",
       "      <td>1.3</td>\n",
       "      <td>46205.0</td>\n",
       "    </tr>\n",
       "    <tr>\n",
       "      <th>2</th>\n",
       "      <td>1.5</td>\n",
       "      <td>37731.0</td>\n",
       "    </tr>\n",
       "    <tr>\n",
       "      <th>3</th>\n",
       "      <td>2.0</td>\n",
       "      <td>43525.0</td>\n",
       "    </tr>\n",
       "    <tr>\n",
       "      <th>4</th>\n",
       "      <td>2.2</td>\n",
       "      <td>39891.0</td>\n",
       "    </tr>\n",
       "  </tbody>\n",
       "</table>\n",
       "</div>"
      ],
      "text/plain": [
       "   YearsExperience   Salary\n",
       "0              1.1  39343.0\n",
       "1              1.3  46205.0\n",
       "2              1.5  37731.0\n",
       "3              2.0  43525.0\n",
       "4              2.2  39891.0"
      ]
     },
     "execution_count": 2,
     "metadata": {},
     "output_type": "execute_result"
    }
   ],
   "source": [
    "df = pd.read_csv(\"C://Users//Vimoney//Documents//salary.csv\")\n",
    "df.head()"
   ]
  },
  {
   "cell_type": "markdown",
   "id": "a8d5ca37",
   "metadata": {},
   "source": [
    "**Step 2: Split dataset into training set and test set**"
   ]
  },
  {
   "cell_type": "markdown",
   "id": "ed3db563",
   "metadata": {},
   "source": [
    " Separate the features we want to use to train the model from the label we want it to predict. Here, we now have numpy arrays named X containing the featurex, and y containing the labels."
   ]
  },
  {
   "cell_type": "code",
   "execution_count": 3,
   "id": "bea3e7be",
   "metadata": {},
   "outputs": [
    {
     "name": "stdout",
     "output_type": "stream",
     "text": [
      "Features:\n",
      "[[1.1]\n",
      " [1.3]\n",
      " [1.5]\n",
      " [2. ]\n",
      " [2.2]\n",
      " [2.9]\n",
      " [3. ]\n",
      " [3.2]\n",
      " [3.2]\n",
      " [3.7]]\n",
      "\n",
      "Labels:\n",
      "[[39343.]\n",
      " [46205.]\n",
      " [37731.]\n",
      " [43525.]\n",
      " [39891.]\n",
      " [56642.]\n",
      " [60150.]\n",
      " [54445.]\n",
      " [64445.]\n",
      " [57189.]]\n"
     ]
    }
   ],
   "source": [
    "X,y=df[[\"YearsExperience\"]].values, df[[\"Salary\"]].values\n",
    "print('Features:',X[:10], '\\nLabels:', y[:10], sep='\\n')"
   ]
  },
  {
   "cell_type": "code",
   "execution_count": 4,
   "id": "834090b1",
   "metadata": {},
   "outputs": [
    {
     "name": "stdout",
     "output_type": "stream",
     "text": [
      "<class 'numpy.ndarray'>\n"
     ]
    }
   ],
   "source": [
    "print(type(X))"
   ]
  },
  {
   "cell_type": "markdown",
   "id": "47982c69",
   "metadata": {},
   "source": [
    "We then split the data randomly (rather than say, taking the first 70% of the data for training and keeping the rest for validation)."
   ]
  },
  {
   "cell_type": "code",
   "execution_count": 5,
   "id": "52e55eb9",
   "metadata": {},
   "outputs": [
    {
     "name": "stdout",
     "output_type": "stream",
     "text": [
      "Training Set: 21 rows\n",
      "Test Set: 9 rows\n"
     ]
    }
   ],
   "source": [
    "from sklearn.model_selection import train_test_split\n",
    "X_train, X_test, y_train, y_test = train_test_split(X, y, test_size=0.30, random_state=0)\n",
    "print ('Training Set: %d rows\\nTest Set: %d rows' % (X_train.shape[0], X_test.shape[0]))"
   ]
  },
  {
   "cell_type": "markdown",
   "id": "1c65d2d9",
   "metadata": {},
   "source": [
    "Now we have the following four datasets:\n",
    "\n",
    "X_train: The feature values we'll use to train the model\n",
    "y_train: The corresponding labels we'll use to train the model\n",
    "X_test: The feature values we'll use to validate the model\n",
    "y_test: The corresponding labels we'll use to validate the model"
   ]
  },
  {
   "cell_type": "markdown",
   "id": "8120a703",
   "metadata": {},
   "source": [
    "**Step 3: Fit Simple Linear Regression model to training set**"
   ]
  },
  {
   "cell_type": "markdown",
   "id": "dac148bd",
   "metadata": {},
   "source": [
    "We create an object of the LinearRegression class and call the fit method passing the X_train and y_train."
   ]
  },
  {
   "cell_type": "code",
   "execution_count": 6,
   "id": "0296b4e3",
   "metadata": {},
   "outputs": [
    {
     "data": {
      "text/plain": [
       "LinearRegression()"
      ]
     },
     "execution_count": 6,
     "metadata": {},
     "output_type": "execute_result"
    }
   ],
   "source": [
    "regressor = LinearRegression()\n",
    "regressor.fit(X_train, y_train)"
   ]
  },
  {
   "cell_type": "markdown",
   "id": "60e9ed4d",
   "metadata": {},
   "source": [
    "**Step 4: Predict the test set**"
   ]
  },
  {
   "cell_type": "markdown",
   "id": "2d4bf955",
   "metadata": {},
   "source": [
    "Using the regressor we trained in the previous step, we will now use it to predict the results of the test set and compare the predicted values with the actual values"
   ]
  },
  {
   "cell_type": "code",
   "execution_count": 7,
   "id": "f8866810",
   "metadata": {},
   "outputs": [],
   "source": [
    "y_pred = regressor.predict(X_test)"
   ]
  },
  {
   "cell_type": "markdown",
   "id": "2ca93c56",
   "metadata": {},
   "source": [
    "Then we can compare these predictions to the actual label values."
   ]
  },
  {
   "cell_type": "code",
   "execution_count": 12,
   "id": "0ff42406",
   "metadata": {},
   "outputs": [
    {
     "data": {
      "text/html": [
       "<div>\n",
       "<style scoped>\n",
       "    .dataframe tbody tr th:only-of-type {\n",
       "        vertical-align: middle;\n",
       "    }\n",
       "\n",
       "    .dataframe tbody tr th {\n",
       "        vertical-align: top;\n",
       "    }\n",
       "\n",
       "    .dataframe thead th {\n",
       "        text-align: right;\n",
       "    }\n",
       "</style>\n",
       "<table border=\"1\" class=\"dataframe\">\n",
       "  <thead>\n",
       "    <tr style=\"text-align: right;\">\n",
       "      <th></th>\n",
       "      <th>Actual</th>\n",
       "      <th>Predicted</th>\n",
       "    </tr>\n",
       "  </thead>\n",
       "  <tbody>\n",
       "    <tr>\n",
       "      <th>0</th>\n",
       "      <td>37731.0</td>\n",
       "      <td>40817.783270</td>\n",
       "    </tr>\n",
       "    <tr>\n",
       "      <th>1</th>\n",
       "      <td>122391.0</td>\n",
       "      <td>123188.082589</td>\n",
       "    </tr>\n",
       "    <tr>\n",
       "      <th>2</th>\n",
       "      <td>57081.0</td>\n",
       "      <td>65154.462615</td>\n",
       "    </tr>\n",
       "    <tr>\n",
       "      <th>3</th>\n",
       "      <td>63218.0</td>\n",
       "      <td>63282.410357</td>\n",
       "    </tr>\n",
       "    <tr>\n",
       "      <th>4</th>\n",
       "      <td>116969.0</td>\n",
       "      <td>115699.873560</td>\n",
       "    </tr>\n",
       "    <tr>\n",
       "      <th>5</th>\n",
       "      <td>109431.0</td>\n",
       "      <td>108211.664531</td>\n",
       "    </tr>\n",
       "    <tr>\n",
       "      <th>6</th>\n",
       "      <td>112635.0</td>\n",
       "      <td>116635.899689</td>\n",
       "    </tr>\n",
       "    <tr>\n",
       "      <th>7</th>\n",
       "      <td>55794.0</td>\n",
       "      <td>64218.436486</td>\n",
       "    </tr>\n",
       "    <tr>\n",
       "      <th>8</th>\n",
       "      <td>83088.0</td>\n",
       "      <td>76386.776158</td>\n",
       "    </tr>\n",
       "  </tbody>\n",
       "</table>\n",
       "</div>"
      ],
      "text/plain": [
       "     Actual      Predicted\n",
       "0   37731.0   40817.783270\n",
       "1  122391.0  123188.082589\n",
       "2   57081.0   65154.462615\n",
       "3   63218.0   63282.410357\n",
       "4  116969.0  115699.873560\n",
       "5  109431.0  108211.664531\n",
       "6  112635.0  116635.899689\n",
       "7   55794.0   64218.436486\n",
       "8   83088.0   76386.776158"
      ]
     },
     "execution_count": 12,
     "metadata": {},
     "output_type": "execute_result"
    }
   ],
   "source": [
    "dframe=pd.DataFrame({\"Actual\":y_test.flatten(),\"Predicted\":y_pred.flatten()}) \n",
    "dframe"
   ]
  },
  {
   "cell_type": "markdown",
   "id": "7d0b827c",
   "metadata": {},
   "source": [
    "**Step 5 — Visualizing the training set**"
   ]
  },
  {
   "cell_type": "markdown",
   "id": "6b98a4c6",
   "metadata": {},
   "source": [
    "Visualizing a scatter plot that compares the predictions to the actual labels to see how the model is effective or not."
   ]
  },
  {
   "cell_type": "code",
   "execution_count": 13,
   "id": "d1f6448a",
   "metadata": {},
   "outputs": [
    {
     "data": {
      "image/png": "[encoded data removed]",
      "text/plain": [
       "<Figure size 432x288 with 1 Axes>"
      ]
     },
     "metadata": {
      "needs_background": "light"
     },
     "output_type": "display_data"
    }
   ],
   "source": [
    "plt.scatter(X_test, y_test, color = 'red')\n",
    "# plot the regression line \n",
    "plt.plot(X_train, regressor.predict(X_train), color='blue')\n",
    "plt.title('Salary vs Experience (Test set)')\n",
    "plt.xlabel('Years of Experience')\n",
    "plt.ylabel('Salary')\n",
    "plt.show()"
   ]
  },
  {
   "cell_type": "markdown",
   "id": "148c299f",
   "metadata": {},
   "source": [
    "**Step 7 — Make new predictions**"
   ]
  },
  {
   "cell_type": "markdown",
   "id": "9d9173b3",
   "metadata": {},
   "source": [
    "We can make new predictions for data points that do not exist in the dataset, for example, a person with 34 years of experience. "
   ]
  },
  {
   "cell_type": "code",
   "execution_count": 17,
   "id": "998ed8fc",
   "metadata": {},
   "outputs": [
    {
     "name": "stdout",
     "output_type": "stream",
     "text": [
      "The predicted salary of a person with 15 years experience is  [[345026.27507178]]\n"
     ]
    }
   ],
   "source": [
    "new_salary_pred = regressor.predict([[34]])\n",
    "print('The predicted salary of a person with 15 years experience is ',new_salary_pred)"
   ]
  },
  {
   "cell_type": "code",
   "execution_count": null,
   "id": "cde99670",
   "metadata": {},
   "outputs": [],
   "source": []
  }
 ],
 "metadata": {
  "kernelspec": {
   "display_name": "Python 3 (ipykernel)",
   "language": "python",
   "name": "python3"
  },
  "language_info": {
   "codemirror_mode": {
    "name": "ipython",
    "version": 3
   },
   "file_extension": ".py",
   "mimetype": "text/x-python",
   "name": "python",
   "nbconvert_exporter": "python",
   "pygments_lexer": "ipython3",
   "version": "3.9.7"
  }
 },
 "nbformat": 4,
 "nbformat_minor": 5
}
