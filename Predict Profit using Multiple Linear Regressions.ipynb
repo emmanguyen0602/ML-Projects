{
 "cells": [
  {
   "cell_type": "markdown",
   "id": "136ffd97",
   "metadata": {},
   "source": [
    "In this notebook, we will use multiple linear regression to predict the profit of 50 startups based on “R&D Spend”, “Administration”, “Marketing Spend” and “State”."
   ]
  },
  {
   "cell_type": "markdown",
   "id": "62cae525",
   "metadata": {},
   "source": [
    "# Step 1: Load the Dataset"
   ]
  },
  {
   "cell_type": "code",
   "execution_count": 1,
   "id": "b6ca8454",
   "metadata": {},
   "outputs": [],
   "source": [
    "import pandas as pd\n",
    "import numpy as np\n",
    "import matplotlib.pyplot as plt\n",
    "%matplotlib inline\n",
    "from sklearn.model_selection import train_test_split\n",
    "from sklearn.linear_model import LinearRegression\n",
    "from sklearn.metrics import mean_squared_error, r2_score"
   ]
  },
  {
   "cell_type": "code",
   "execution_count": 4,
   "id": "d2061b47",
   "metadata": {},
   "outputs": [
    {
     "data": {
      "text/html": [
       "<div>\n",
       "<style scoped>\n",
       "    .dataframe tbody tr th:only-of-type {\n",
       "        vertical-align: middle;\n",
       "    }\n",
       "\n",
       "    .dataframe tbody tr th {\n",
       "        vertical-align: top;\n",
       "    }\n",
       "\n",
       "    .dataframe thead th {\n",
       "        text-align: right;\n",
       "    }\n",
       "</style>\n",
       "<table border=\"1\" class=\"dataframe\">\n",
       "  <thead>\n",
       "    <tr style=\"text-align: right;\">\n",
       "      <th></th>\n",
       "      <th>R&amp;D Spend</th>\n",
       "      <th>Administration</th>\n",
       "      <th>Marketing Spend</th>\n",
       "      <th>State</th>\n",
       "      <th>Profit</th>\n",
       "    </tr>\n",
       "  </thead>\n",
       "  <tbody>\n",
       "    <tr>\n",
       "      <th>0</th>\n",
       "      <td>165349.20</td>\n",
       "      <td>136897.80</td>\n",
       "      <td>471784.10</td>\n",
       "      <td>New York</td>\n",
       "      <td>192261.83</td>\n",
       "    </tr>\n",
       "    <tr>\n",
       "      <th>1</th>\n",
       "      <td>162597.70</td>\n",
       "      <td>151377.59</td>\n",
       "      <td>443898.53</td>\n",
       "      <td>California</td>\n",
       "      <td>191792.06</td>\n",
       "    </tr>\n",
       "    <tr>\n",
       "      <th>2</th>\n",
       "      <td>153441.51</td>\n",
       "      <td>101145.55</td>\n",
       "      <td>407934.54</td>\n",
       "      <td>Florida</td>\n",
       "      <td>191050.39</td>\n",
       "    </tr>\n",
       "    <tr>\n",
       "      <th>3</th>\n",
       "      <td>144372.41</td>\n",
       "      <td>118671.85</td>\n",
       "      <td>383199.62</td>\n",
       "      <td>New York</td>\n",
       "      <td>182901.99</td>\n",
       "    </tr>\n",
       "    <tr>\n",
       "      <th>4</th>\n",
       "      <td>142107.34</td>\n",
       "      <td>91391.77</td>\n",
       "      <td>366168.42</td>\n",
       "      <td>Florida</td>\n",
       "      <td>166187.94</td>\n",
       "    </tr>\n",
       "  </tbody>\n",
       "</table>\n",
       "</div>"
      ],
      "text/plain": [
       "   R&D Spend  Administration  Marketing Spend       State     Profit\n",
       "0  165349.20       136897.80        471784.10    New York  192261.83\n",
       "1  162597.70       151377.59        443898.53  California  191792.06\n",
       "2  153441.51       101145.55        407934.54     Florida  191050.39\n",
       "3  144372.41       118671.85        383199.62    New York  182901.99\n",
       "4  142107.34        91391.77        366168.42     Florida  166187.94"
      ]
     },
     "execution_count": 4,
     "metadata": {},
     "output_type": "execute_result"
    }
   ],
   "source": [
    "df = pd.read_csv(\"C://Users//Vimoney//Documents//startups.csv\")\n",
    "df.head()"
   ]
  },
  {
   "cell_type": "markdown",
   "id": "559e6c64",
   "metadata": {},
   "source": [
    "For this dataset, we have 4 independent variables(X): R&D Spend,Administration, Marketing Spend and State. The dependent variable (Y) is Profit"
   ]
  },
  {
   "cell_type": "markdown",
   "id": "14596d42",
   "metadata": {},
   "source": [
    "# Step 2: Prepare and clean dataset"
   ]
  },
  {
   "cell_type": "code",
   "execution_count": 6,
   "id": "193637c2",
   "metadata": {},
   "outputs": [
    {
     "data": {
      "text/plain": [
       "R&D Spend          0\n",
       "Administration     0\n",
       "Marketing Spend    0\n",
       "State              0\n",
       "Profit             0\n",
       "dtype: int64"
      ]
     },
     "execution_count": 6,
     "metadata": {},
     "output_type": "execute_result"
    }
   ],
   "source": [
    "#check null and missing values\n",
    "df.isna().sum()"
   ]
  },
  {
   "cell_type": "markdown",
   "id": "28d7cfe0",
   "metadata": {},
   "source": [
    "There is no missing or null values in the dataset"
   ]
  },
  {
   "cell_type": "code",
   "execution_count": 5,
   "id": "a7680042",
   "metadata": {},
   "outputs": [
    {
     "data": {
      "text/plain": [
       "R&D Spend          float64\n",
       "Administration     float64\n",
       "Marketing Spend    float64\n",
       "State               object\n",
       "Profit             float64\n",
       "dtype: object"
      ]
     },
     "execution_count": 5,
     "metadata": {},
     "output_type": "execute_result"
    }
   ],
   "source": [
    "#check the data types \n",
    "df.dtypes"
   ]
  },
  {
   "cell_type": "markdown",
   "id": "a4b02da7",
   "metadata": {},
   "source": [
    "State is the categorical variable in the dataset, we have to normalize it for better analysis. "
   ]
  },
  {
   "cell_type": "code",
   "execution_count": 8,
   "id": "30855596",
   "metadata": {},
   "outputs": [
    {
     "name": "stdout",
     "output_type": "stream",
     "text": [
      "Features:\n",
      "[[165349.2 136897.8 471784.1 'New York']\n",
      " [162597.7 151377.59 443898.53 'California']\n",
      " [153441.51 101145.55 407934.54 'Florida']\n",
      " [144372.41 118671.85 383199.62 'New York']\n",
      " [142107.34 91391.77 366168.42 'Florida']\n",
      " [131876.9 99814.71 362861.36 'New York']\n",
      " [134615.46 147198.87 127716.82 'California']\n",
      " [130298.13 145530.06 323876.68 'Florida']\n",
      " [120542.52 148718.95 311613.29 'New York']\n",
      " [123334.88 108679.17 304981.62 'California']]\n",
      "\n",
      "Labels:\n",
      "[[192261.83]\n",
      " [191792.06]\n",
      " [191050.39]\n",
      " [182901.99]\n",
      " [166187.94]\n",
      " [156991.12]\n",
      " [156122.51]\n",
      " [155752.6 ]\n",
      " [152211.77]\n",
      " [149759.96]]\n"
     ]
    }
   ],
   "source": [
    "#define independent and dependent variables\n",
    "X, y = df[[\"R&D Spend\", \"Administration\",\"Marketing Spend\", \"State\"]].values, df[[\"Profit\"]].values\n",
    "print('Features:',X[:10], '\\nLabels:', y[:10], sep='\\n')"
   ]
  },
  {
   "cell_type": "code",
   "execution_count": 9,
   "id": "4f64508d",
   "metadata": {},
   "outputs": [],
   "source": [
    "#Encode Categorical Data\n",
    "#State variable is norminal catetogory so we will use One Hot Coding\n",
    "from sklearn.preprocessing import OneHotEncoder\n",
    "from sklearn.compose import ColumnTransformer\n",
    "ct = ColumnTransformer(transformers=[('encoder',OneHotEncoder(),[3])], remainder='passthrough')\n",
    "X = np.array(ct.fit_transform(X))"
   ]
  },
  {
   "cell_type": "code",
   "execution_count": 10,
   "id": "40bf2c89",
   "metadata": {},
   "outputs": [
    {
     "data": {
      "text/plain": [
       "array([[0.0, 0.0, 1.0, 165349.2, 136897.8, 471784.1],\n",
       "       [1.0, 0.0, 0.0, 162597.7, 151377.59, 443898.53],\n",
       "       [0.0, 1.0, 0.0, 153441.51, 101145.55, 407934.54],\n",
       "       [0.0, 0.0, 1.0, 144372.41, 118671.85, 383199.62],\n",
       "       [0.0, 1.0, 0.0, 142107.34, 91391.77, 366168.42],\n",
       "       [0.0, 0.0, 1.0, 131876.9, 99814.71, 362861.36],\n",
       "       [1.0, 0.0, 0.0, 134615.46, 147198.87, 127716.82],\n",
       "       [0.0, 1.0, 0.0, 130298.13, 145530.06, 323876.68],\n",
       "       [0.0, 0.0, 1.0, 120542.52, 148718.95, 311613.29],\n",
       "       [1.0, 0.0, 0.0, 123334.88, 108679.17, 304981.62]], dtype=object)"
      ]
     },
     "execution_count": 10,
     "metadata": {},
     "output_type": "execute_result"
    }
   ],
   "source": [
    "X[:10]"
   ]
  },
  {
   "cell_type": "markdown",
   "id": "7978ab8d",
   "metadata": {},
   "source": [
    "# Step 3: Split dataset into training set and test set"
   ]
  },
  {
   "cell_type": "markdown",
   "id": "227de3f0",
   "metadata": {},
   "source": [
    "We split the data randomly, taking the first 70% of the data for training and keeping the rest for validation."
   ]
  },
  {
   "cell_type": "code",
   "execution_count": 11,
   "id": "7c866cab",
   "metadata": {},
   "outputs": [
    {
     "name": "stdout",
     "output_type": "stream",
     "text": [
      "Training Set: 35 rows\n",
      "Test Set: 15 rows\n"
     ]
    }
   ],
   "source": [
    "X_train, X_test, y_train, y_test = train_test_split(X, y, test_size=0.30, random_state=0)\n",
    "print ('Training Set: %d rows\\nTest Set: %d rows' % (X_train.shape[0], X_test.shape[0]))"
   ]
  },
  {
   "cell_type": "markdown",
   "id": "0f8f26c2",
   "metadata": {},
   "source": [
    "Now we have the following four datasets:\n",
    "\n",
    "X_train: The feature values we'll use to train the model \n",
    "\n",
    "y_train: The corresponding labels we'll use to train the model \n",
    "\n",
    "X_test: The feature values we'll use to validate the model \n",
    "\n",
    "y_test: The corresponding labels we'll use to validate the model"
   ]
  },
  {
   "cell_type": "markdown",
   "id": "f2021071",
   "metadata": {},
   "source": [
    "# Step 4: Fit Multiple Linear Regression model to training set"
   ]
  },
  {
   "cell_type": "markdown",
   "id": "94f9f333",
   "metadata": {},
   "source": [
    "We create an object of the LinearRegression class and call the fit method passing the X_train and y_train."
   ]
  },
  {
   "cell_type": "code",
   "execution_count": 14,
   "id": "b2884faf",
   "metadata": {},
   "outputs": [],
   "source": [
    "reg = LinearRegression()"
   ]
  },
  {
   "cell_type": "code",
   "execution_count": 15,
   "id": "0408d243",
   "metadata": {},
   "outputs": [
    {
     "data": {
      "text/plain": [
       "LinearRegression()"
      ]
     },
     "execution_count": 15,
     "metadata": {},
     "output_type": "execute_result"
    }
   ],
   "source": [
    "reg.fit(X_train, y_train)"
   ]
  },
  {
   "cell_type": "markdown",
   "id": "9bd242bb",
   "metadata": {},
   "source": [
    "# Step 5: Predict a test set"
   ]
  },
  {
   "cell_type": "code",
   "execution_count": 17,
   "id": "315e7f1b",
   "metadata": {},
   "outputs": [],
   "source": [
    "y_pred=reg.predict(X_test)\n"
   ]
  },
  {
   "cell_type": "markdown",
   "id": "ce28b141",
   "metadata": {},
   "source": [
    "We can compare predictions with actual values"
   ]
  },
  {
   "cell_type": "code",
   "execution_count": 23,
   "id": "af101025",
   "metadata": {},
   "outputs": [
    {
     "data": {
      "text/html": [
       "<div>\n",
       "<style scoped>\n",
       "    .dataframe tbody tr th:only-of-type {\n",
       "        vertical-align: middle;\n",
       "    }\n",
       "\n",
       "    .dataframe tbody tr th {\n",
       "        vertical-align: top;\n",
       "    }\n",
       "\n",
       "    .dataframe thead th {\n",
       "        text-align: right;\n",
       "    }\n",
       "</style>\n",
       "<table border=\"1\" class=\"dataframe\">\n",
       "  <thead>\n",
       "    <tr style=\"text-align: right;\">\n",
       "      <th></th>\n",
       "      <th>Actual</th>\n",
       "      <th>Predicted</th>\n",
       "    </tr>\n",
       "  </thead>\n",
       "  <tbody>\n",
       "    <tr>\n",
       "      <th>0</th>\n",
       "      <td>103282.38</td>\n",
       "      <td>104282.76</td>\n",
       "    </tr>\n",
       "    <tr>\n",
       "      <th>1</th>\n",
       "      <td>144259.40</td>\n",
       "      <td>132536.88</td>\n",
       "    </tr>\n",
       "    <tr>\n",
       "      <th>2</th>\n",
       "      <td>146121.95</td>\n",
       "      <td>133910.85</td>\n",
       "    </tr>\n",
       "    <tr>\n",
       "      <th>3</th>\n",
       "      <td>77798.83</td>\n",
       "      <td>72584.77</td>\n",
       "    </tr>\n",
       "    <tr>\n",
       "      <th>4</th>\n",
       "      <td>191050.39</td>\n",
       "      <td>179920.93</td>\n",
       "    </tr>\n",
       "    <tr>\n",
       "      <th>5</th>\n",
       "      <td>105008.31</td>\n",
       "      <td>114549.31</td>\n",
       "    </tr>\n",
       "    <tr>\n",
       "      <th>6</th>\n",
       "      <td>81229.06</td>\n",
       "      <td>66444.43</td>\n",
       "    </tr>\n",
       "    <tr>\n",
       "      <th>7</th>\n",
       "      <td>97483.56</td>\n",
       "      <td>98404.97</td>\n",
       "    </tr>\n",
       "    <tr>\n",
       "      <th>8</th>\n",
       "      <td>110352.25</td>\n",
       "      <td>114499.83</td>\n",
       "    </tr>\n",
       "    <tr>\n",
       "      <th>9</th>\n",
       "      <td>166187.94</td>\n",
       "      <td>169367.51</td>\n",
       "    </tr>\n",
       "    <tr>\n",
       "      <th>10</th>\n",
       "      <td>96778.92</td>\n",
       "      <td>96522.63</td>\n",
       "    </tr>\n",
       "    <tr>\n",
       "      <th>11</th>\n",
       "      <td>96479.51</td>\n",
       "      <td>88040.67</td>\n",
       "    </tr>\n",
       "    <tr>\n",
       "      <th>12</th>\n",
       "      <td>105733.54</td>\n",
       "      <td>110949.99</td>\n",
       "    </tr>\n",
       "    <tr>\n",
       "      <th>13</th>\n",
       "      <td>96712.80</td>\n",
       "      <td>90419.19</td>\n",
       "    </tr>\n",
       "    <tr>\n",
       "      <th>14</th>\n",
       "      <td>124266.90</td>\n",
       "      <td>128020.46</td>\n",
       "    </tr>\n",
       "  </tbody>\n",
       "</table>\n",
       "</div>"
      ],
      "text/plain": [
       "       Actual  Predicted\n",
       "0   103282.38  104282.76\n",
       "1   144259.40  132536.88\n",
       "2   146121.95  133910.85\n",
       "3    77798.83   72584.77\n",
       "4   191050.39  179920.93\n",
       "5   105008.31  114549.31\n",
       "6    81229.06   66444.43\n",
       "7    97483.56   98404.97\n",
       "8   110352.25  114499.83\n",
       "9   166187.94  169367.51\n",
       "10   96778.92   96522.63\n",
       "11   96479.51   88040.67\n",
       "12  105733.54  110949.99\n",
       "13   96712.80   90419.19\n",
       "14  124266.90  128020.46"
      ]
     },
     "execution_count": 23,
     "metadata": {},
     "output_type": "execute_result"
    }
   ],
   "source": [
    "check=pd.DataFrame({\"Actual\": y_test.flatten(), \"Predicted\": np.round(y_pred, 2).flatten()})\n",
    "check"
   ]
  },
  {
   "cell_type": "markdown",
   "id": "1ae30b80",
   "metadata": {},
   "source": [
    "We would be using the seaborn's regplot to better understand how the data is spread. We see how the values are spread out and get a good understanding. We can understand from the plot that the predictions were very close to the actual values that we have considered. Therefore, linear regression did a good job in giving the regression values and can be used for predictions in the future. "
   ]
  },
  {
   "cell_type": "code",
   "execution_count": 35,
   "id": "3fced08f",
   "metadata": {},
   "outputs": [
    {
     "data": {
      "image/png": "[encoded data removed]",
      "text/plain": [
       "<Figure size 720x864 with 1 Axes>"
      ]
     },
     "metadata": {
      "needs_background": "light"
     },
     "output_type": "display_data"
    }
   ],
   "source": [
    "import seaborn as sns\n",
    "plt.figure(figsize=(10, 12))\n",
    "sns.regplot(data = check, y = 'Predicted', x = 'Actual', color = 'teal', marker = 'o')\n",
    "plt.title(\"Comparision of predicted values and the actual values\", fontsize = 20)\n",
    "plt.show()\n"
   ]
  },
  {
   "cell_type": "markdown",
   "id": "764731dc",
   "metadata": {},
   "source": [
    "# Step 6 — Evaluate the Trained Model"
   ]
  },
  {
   "cell_type": "markdown",
   "id": "9a42fb71",
   "metadata": {},
   "source": [
    "Let's use Scikit-Learn to calculate these metrics for our model, based on the predictions it generated for the validation data.\n",
    "You can quantify the residuals by calculating a number of commonly used evaluation metrics. We'll focus on the following three:\n",
    "\n",
    "- Mean Square Error (MSE): The mean of the squared differences between predicted and actual values. This yields a relative metric in which the smaller the value, the better the fit of the model\n",
    "- Root Mean Square Error (RMSE): The square root of the MSE. This yields an absolute metric in the same unit as the label (in this case, numbers of rentals). The smaller the value, the better the model (in a simplistic sense, it represents the average number of rentals by which the predictions are wrong!)\n",
    "- Coefficient of Determination (usually known as R-squared or R2): A relative metric in which the higher the value, the better the fit of the model. In essence, this metric represents how much of the variance between predicted and actual label values the model is able to explain."
   ]
  },
  {
   "cell_type": "code",
   "execution_count": 24,
   "id": "5f7022fe",
   "metadata": {},
   "outputs": [
    {
     "name": "stdout",
     "output_type": "stream",
     "text": [
      "MSE: 61903144.402380615\n",
      "RMSE: 7867.855133540565\n",
      "R2: 0.9358680970046377\n"
     ]
    }
   ],
   "source": [
    "\n",
    "mse = mean_squared_error(y_test, y_pred)\n",
    "print(\"MSE:\", mse)\n",
    "\n",
    "rmse = np.sqrt(mse)\n",
    "print(\"RMSE:\", rmse)\n",
    "\n",
    "r2 = r2_score(y_test, y_pred)\n",
    "print(\"R2:\", r2)"
   ]
  },
  {
   "cell_type": "markdown",
   "id": "767eb20d",
   "metadata": {},
   "source": [
    "R2 = 0.93 it means that more than 93% of the variation in the output variable is explained by the input variables. So now we've quantified the ability of our model to predict the profit. "
   ]
  },
  {
   "cell_type": "markdown",
   "id": "06567478",
   "metadata": {},
   "source": [
    "# Step 7 — Make new predictions"
   ]
  },
  {
   "cell_type": "code",
   "execution_count": 33,
   "id": "acdf61b9",
   "metadata": {},
   "outputs": [
    {
     "name": "stdout",
     "output_type": "stream",
     "text": [
      "New sample: [0.0, 0.0, 1.0, 195349.2, 236897.8, 671784.1]\n",
      "Prediction: [[225187.53]] profit\n"
     ]
    }
   ],
   "source": [
    "# Create a numpy array containing a new observation (for example tomorrow's seasonal and weather forecast information)\n",
    "X_new = np.array([[0.0, 0.0, 1.0, 195349.2, 236897.8, 671784.1]]).astype('float64')\n",
    "print ('New sample: {}'.format(list(X_new[0])))\n",
    "\n",
    "# Use the model to predict tomorrow's rentals\n",
    "result = np.round(reg.predict(X_new),2)\n",
    "print(f'Prediction: {result} profit')"
   ]
  },
  {
   "cell_type": "code",
   "execution_count": null,
   "id": "8e707c41",
   "metadata": {},
   "outputs": [],
   "source": []
  }
 ],
 "metadata": {
  "kernelspec": {
   "display_name": "Python 3 (ipykernel)",
   "language": "python",
   "name": "python3"
  },
  "language_info": {
   "codemirror_mode": {
    "name": "ipython",
    "version": 3
   },
   "file_extension": ".py",
   "mimetype": "text/x-python",
   "name": "python",
   "nbconvert_exporter": "python",
   "pygments_lexer": "ipython3",
   "version": "3.9.7"
  }
 },
 "nbformat": 4,
 "nbformat_minor": 5
}
